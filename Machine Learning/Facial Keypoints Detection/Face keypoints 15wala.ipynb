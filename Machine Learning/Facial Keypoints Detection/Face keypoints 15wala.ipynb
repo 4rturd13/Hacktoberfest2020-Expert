{
 "cells": [
  {
   "cell_type": "code",
   "execution_count": 1,
   "metadata": {},
   "outputs": [],
   "source": [
    "from tensorflow.keras.models import load_model\n",
    "import cv2 as cv\n",
    "import numpy as np"
   ]
  },
  {
   "cell_type": "code",
   "execution_count": 2,
   "metadata": {},
   "outputs": [],
   "source": [
    "face=cv.CascadeClassifier(\"haarcascade_frontalface_default.xml\")"
   ]
  },
  {
   "cell_type": "code",
   "execution_count": 3,
   "metadata": {},
   "outputs": [],
   "source": [
    "model=load_model(\"15_points_model.h5\")"
   ]
  },
  {
   "cell_type": "code",
   "execution_count": 4,
   "metadata": {},
   "outputs": [
    {
     "name": "stdout",
     "output_type": "stream",
     "text": [
      "Model: \"sequential_1\"\n",
      "_________________________________________________________________\n",
      "Layer (type)                 Output Shape              Param #   \n",
      "=================================================================\n",
      "conv2d_4 (Conv2D)            (None, 94, 94, 16)        160       \n",
      "_________________________________________________________________\n",
      "max_pooling2d_4 (MaxPooling2 (None, 47, 47, 16)        0         \n",
      "_________________________________________________________________\n",
      "conv2d_5 (Conv2D)            (None, 45, 45, 32)        4640      \n",
      "_________________________________________________________________\n",
      "max_pooling2d_5 (MaxPooling2 (None, 22, 22, 32)        0         \n",
      "_________________________________________________________________\n",
      "conv2d_6 (Conv2D)            (None, 20, 20, 64)        18496     \n",
      "_________________________________________________________________\n",
      "max_pooling2d_6 (MaxPooling2 (None, 10, 10, 64)        0         \n",
      "_________________________________________________________________\n",
      "conv2d_7 (Conv2D)            (None, 8, 8, 64)          36928     \n",
      "_________________________________________________________________\n",
      "max_pooling2d_7 (MaxPooling2 (None, 4, 4, 64)          0         \n",
      "_________________________________________________________________\n",
      "flatten_1 (Flatten)          (None, 1024)              0         \n",
      "_________________________________________________________________\n",
      "dense_3 (Dense)              (None, 128)               131200    \n",
      "_________________________________________________________________\n",
      "dense_4 (Dense)              (None, 64)                8256      \n",
      "_________________________________________________________________\n",
      "dense_5 (Dense)              (None, 30)                1950      \n",
      "=================================================================\n",
      "Total params: 201,630\n",
      "Trainable params: 201,630\n",
      "Non-trainable params: 0\n",
      "_________________________________________________________________\n"
     ]
    }
   ],
   "source": [
    "model.summary()"
   ]
  },
  {
   "cell_type": "code",
   "execution_count": null,
   "metadata": {},
   "outputs": [],
   "source": []
  },
  {
   "cell_type": "code",
   "execution_count": 5,
   "metadata": {},
   "outputs": [],
   "source": [
    "def preprocessing(images):\n",
    "    images=images/255.0\n",
    "    images=images.astype(np.float32)\n",
    "    return images.reshape(1,96,96,1)"
   ]
  },
  {
   "cell_type": "code",
   "execution_count": 11,
   "metadata": {
    "scrolled": true
   },
   "outputs": [],
   "source": [
    "cam=cv.VideoCapture(0)\n",
    "while True:\n",
    "    ret,frame=cam.read()\n",
    "    temp=frame.copy()\n",
    "    temp1=face.detectMultiScale(temp)\n",
    "    for (x,y,z,w) in temp1:\n",
    "        cv.rectangle(temp,(x,y),(x+z,y+w),color=(0,255,255))\n",
    "    #cv.imshow('frame',temp)\n",
    "    try:\n",
    "        new_frame=frame[temp1[0][1]:temp1[0][1]+temp1[0][3],temp1[0][0]:temp1[0][0]+temp1[0][2],:].copy()\n",
    "        original=new_frame.shape\n",
    "        new_frame=cv.resize(new_frame,(96,96))\n",
    "        #cv.imshow('new',new_frame)\n",
    "        gray_frame=cv.cvtColor(new_frame,cv.COLOR_BGR2GRAY)\n",
    "        gray_frame=preprocessing(gray_frame)\n",
    "        output=model.predict(gray_frame)\n",
    "        for i in range(0,len(output[0]),2):\n",
    "            cv.circle(img=new_frame,\n",
    "                      center=(int((output[0][i])*48+48),int((output[0][i+1])*48+48)),\n",
    "                      radius=2,color=(255,255,255))\n",
    "        #cv.imshow('output',new_frame)\n",
    "        frame[temp1[0][1]:temp1[0][1]+temp1[0][3],\n",
    "              temp1[0][0]:temp1[0][0]+temp1[0][2],:]=cv.resize(new_frame,tuple(original)[:-1])\n",
    "        #cv.imshow('new',new_frame)\n",
    "        cv.imshow('frame1',frame)\n",
    "    except:\n",
    "        pass\n",
    "    if(cv.waitKey(1)&0xff==ord('q')):\n",
    "        break\n",
    "cam.release()\n",
    "cv.destroyAllWindows()"
   ]
  },
  {
   "cell_type": "code",
   "execution_count": null,
   "metadata": {},
   "outputs": [],
   "source": []
  },
  {
   "cell_type": "code",
   "execution_count": null,
   "metadata": {},
   "outputs": [],
   "source": []
  },
  {
   "cell_type": "code",
   "execution_count": null,
   "metadata": {},
   "outputs": [],
   "source": []
  },
  {
   "cell_type": "code",
   "execution_count": null,
   "metadata": {},
   "outputs": [],
   "source": []
  },
  {
   "cell_type": "code",
   "execution_count": null,
   "metadata": {},
   "outputs": [],
   "source": []
  },
  {
   "cell_type": "code",
   "execution_count": null,
   "metadata": {},
   "outputs": [],
   "source": []
  },
  {
   "cell_type": "code",
   "execution_count": null,
   "metadata": {},
   "outputs": [],
   "source": []
  },
  {
   "cell_type": "code",
   "execution_count": null,
   "metadata": {},
   "outputs": [],
   "source": []
  },
  {
   "cell_type": "code",
   "execution_count": null,
   "metadata": {},
   "outputs": [],
   "source": []
  },
  {
   "cell_type": "code",
   "execution_count": null,
   "metadata": {},
   "outputs": [],
   "source": []
  },
  {
   "cell_type": "code",
   "execution_count": null,
   "metadata": {},
   "outputs": [],
   "source": []
  },
  {
   "cell_type": "code",
   "execution_count": null,
   "metadata": {},
   "outputs": [],
   "source": []
  },
  {
   "cell_type": "code",
   "execution_count": null,
   "metadata": {},
   "outputs": [],
   "source": []
  },
  {
   "cell_type": "code",
   "execution_count": null,
   "metadata": {},
   "outputs": [],
   "source": []
  },
  {
   "cell_type": "code",
   "execution_count": null,
   "metadata": {},
   "outputs": [],
   "source": []
  },
  {
   "cell_type": "code",
   "execution_count": null,
   "metadata": {},
   "outputs": [],
   "source": []
  },
  {
   "cell_type": "code",
   "execution_count": null,
   "metadata": {},
   "outputs": [],
   "source": []
  },
  {
   "cell_type": "code",
   "execution_count": null,
   "metadata": {},
   "outputs": [],
   "source": []
  },
  {
   "cell_type": "code",
   "execution_count": null,
   "metadata": {},
   "outputs": [],
   "source": []
  },
  {
   "cell_type": "code",
   "execution_count": null,
   "metadata": {},
   "outputs": [],
   "source": []
  },
  {
   "cell_type": "code",
   "execution_count": null,
   "metadata": {},
   "outputs": [],
   "source": []
  },
  {
   "cell_type": "code",
   "execution_count": null,
   "metadata": {},
   "outputs": [],
   "source": []
  },
  {
   "cell_type": "code",
   "execution_count": null,
   "metadata": {},
   "outputs": [],
   "source": []
  },
  {
   "cell_type": "code",
   "execution_count": null,
   "metadata": {},
   "outputs": [],
   "source": []
  },
  {
   "cell_type": "code",
   "execution_count": null,
   "metadata": {},
   "outputs": [],
   "source": []
  },
  {
   "cell_type": "code",
   "execution_count": null,
   "metadata": {},
   "outputs": [],
   "source": []
  },
  {
   "cell_type": "code",
   "execution_count": null,
   "metadata": {},
   "outputs": [],
   "source": []
  },
  {
   "cell_type": "code",
   "execution_count": 6,
   "metadata": {},
   "outputs": [
    {
     "name": "stdout",
     "output_type": "stream",
     "text": [
      "30.952095808383234 31.056886227544908\n",
      "33.532934131736525 33.67964071856287\n",
      "28.16167664670659 28.24550898203593\n",
      "26.37125748502994 26.434131736526943\n",
      "31.74251497005988 31.86826347305389\n",
      "35.32335329341318 35.49101796407186\n",
      "14.838323353293411 14.75449101796407\n",
      "31.74251497005988 31.86826347305389\n",
      "13.838323353293411 13.75449101796407\n",
      "17.419161676646706 17.377245508982035\n",
      "31.74251497005988 31.86826347305389\n",
      "35.32335329341318 35.49101796407186\n",
      "33.532934131736525 33.67964071856287\n",
      "28.16167664670659 28.24550898203593\n",
      "31.74251497005988 31.86826347305389\n",
      "33.532934131736525 33.67964071856287\n",
      "31.74251497005988 31.86826347305389\n",
      "31.74251497005988 31.86826347305389\n",
      "31.74251497005988 31.86826347305389\n",
      "31.74251497005988 31.86826347305389\n",
      "28.16167664670659 28.24550898203593\n",
      "31.74251497005988 31.86826347305389\n",
      "31.74251497005988 31.86826347305389\n",
      "35.32335329341318 35.49101796407186\n",
      "28.16167664670659 28.24550898203593\n",
      "14.838323353293411 14.75449101796407\n",
      "13.838323353293411 13.75449101796407\n",
      "31.74251497005988 31.86826347305389\n",
      "17.419161676646706 17.377245508982035\n",
      "31.74251497005988 31.86826347305389\n",
      "16.62874251497006 16.565868263473057\n",
      "33.532934131736525 33.67964071856287\n",
      "29.952095808383234 30.056886227544908\n",
      "17.419161676646706 17.377245508982035\n",
      "31.74251497005988 31.86826347305389\n",
      "13.838323353293411 13.75449101796407\n",
      "31.74251497005988 31.86826347305389\n",
      "31.74251497005988 31.86826347305389\n",
      "26.37125748502994 26.434131736526943\n",
      "35.32335329341318 35.49101796407186\n",
      "31.74251497005988 31.86826347305389\n",
      "12.047904191616766 11.94311377245509\n"
     ]
    }
   ],
   "source": [
    "cam=cv.VideoCapture(0)\n",
    "fil=cv.imread(\"cover.jpg\",cv.IMREAD_UNCHANGED)\n",
    "X=430-307\n",
    "Y=510-220\n",
    "while True:\n",
    "    ret,frame=cam.read()\n",
    "    temp=frame.copy()\n",
    "    temp1=face.detectMultiScale(temp)\n",
    "    for (x,y,z,w) in temp1:\n",
    "        cv.rectangle(temp,(x,y),(x+z,y+w),color=(0,255,255))\n",
    "    #cv.imshow('frame',temp)\n",
    "    try:\n",
    "        new_frame=frame[temp1[0][1]:temp1[0][1]+temp1[0][3],temp1[0][0]:temp1[0][0]+temp1[0][2],:].copy()\n",
    "        original=new_frame.shape\n",
    "        new_frame=cv.resize(new_frame,(96,96))\n",
    "        #cv.imshow('new',new_frame)\n",
    "        gray_frame=cv.cvtColor(new_frame,cv.COLOR_BGR2GRAY)\n",
    "        gray_frame=preprocessing(gray_frame)\n",
    "        output=model.predict(gray_frame)\n",
    "        right=left=nose=0\n",
    "        for i in range(0,len(output[0]),2):\n",
    "            if(i==4):\n",
    "                right=(int((output[0][i])*48+48),int((output[0][i+1])*48+48))\n",
    "            elif(i==8):\n",
    "                left=(int((output[0][i])*48+48),int((output[0][i+1])*48+48))\n",
    "            elif(i==20):\n",
    "                nose=(int((output[0][i])*48+48),int((output[0][i+1])*48+48))\n",
    "            cv.circle(img=new_frame,\n",
    "                      center=(int((output[0][i])*48+48),int((output[0][i+1])*48+48)),\n",
    "                      radius=2,color=(255,255,255))\n",
    "        x=abs(right[0]-left[0])\n",
    "        y=abs(nose[1]-sum([right[1],left[1]])/2.0)\n",
    "        slope=(y-x)*1.0/(Y-X)\n",
    "        intercept=y-Y*(slope)\n",
    "        xshape=fil.shape[0]*slope+intercept\n",
    "        yshape=fil.shape[1]*slope+intercept\n",
    "        print(xshape,yshape)\n",
    "        #cv.imshow('output',new_frame)\n",
    "        frame[temp1[0][1]:temp1[0][1]+temp1[0][3],\n",
    "              temp1[0][0]:temp1[0][0]+temp1[0][2],:]=cv.resize(new_frame,tuple(original)[:-1])\n",
    "        cv.imshow('frame1',frame)\n",
    "    except OSError as e:\n",
    "        pass\n",
    "    if(cv.waitKey(1)&0xff==ord('q')):\n",
    "        break\n",
    "cam.release()\n",
    "cv.destroyAllWindows()"
   ]
  },
  {
   "cell_type": "code",
   "execution_count": null,
   "metadata": {},
   "outputs": [],
   "source": []
  },
  {
   "cell_type": "code",
   "execution_count": null,
   "metadata": {},
   "outputs": [],
   "source": []
  }
 ],
 "metadata": {
  "kernelspec": {
   "display_name": "Python 3",
   "language": "python",
   "name": "python3"
  },
  "language_info": {
   "codemirror_mode": {
    "name": "ipython",
    "version": 3
   },
   "file_extension": ".py",
   "mimetype": "text/x-python",
   "name": "python",
   "nbconvert_exporter": "python",
   "pygments_lexer": "ipython3",
   "version": "3.8.2"
  }
 },
 "nbformat": 4,
 "nbformat_minor": 4
}
