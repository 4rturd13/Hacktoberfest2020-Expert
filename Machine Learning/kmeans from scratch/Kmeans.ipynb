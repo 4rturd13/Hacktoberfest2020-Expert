{
 "cells": [
  {
   "cell_type": "markdown",
   "metadata": {},
   "source": [
    "### Package installs\n",
    "If you are using jupyter lab online, all packages will be available. If you are running this on your local computer, you may need to install some packages. Run the cell below if using jupyter lab locally. "
   ]
  },
  {
   "cell_type": "code",
   "execution_count": 4,
   "metadata": {},
   "outputs": [
    {
     "name": "stdout",
     "output_type": "stream",
     "text": [
      "Requirement already satisfied: numpy in /home/hp/anaconda3/lib/python3.7/site-packages (1.19.1)\n",
      "Requirement already satisfied: scipy in /home/hp/anaconda3/lib/python3.7/site-packages (1.5.2)\n",
      "Requirement already satisfied: numpy>=1.14.5 in /home/hp/anaconda3/lib/python3.7/site-packages (from scipy) (1.19.1)\n",
      "Requirement already satisfied: pandas in /home/hp/anaconda3/lib/python3.7/site-packages (1.1.1)\n",
      "Requirement already satisfied: pytz>=2017.2 in /home/hp/anaconda3/lib/python3.7/site-packages (from pandas) (2020.1)\n",
      "Requirement already satisfied: python-dateutil>=2.7.3 in /home/hp/anaconda3/lib/python3.7/site-packages (from pandas) (2.8.1)\n",
      "Requirement already satisfied: numpy>=1.15.4 in /home/hp/anaconda3/lib/python3.7/site-packages (from pandas) (1.19.1)\n",
      "Requirement already satisfied: six>=1.5 in /home/hp/anaconda3/lib/python3.7/site-packages (from python-dateutil>=2.7.3->pandas) (1.15.0)\n",
      "Requirement already satisfied: scikit-learn in /home/hp/anaconda3/lib/python3.7/site-packages (0.23.2)\n",
      "Requirement already satisfied: numpy>=1.13.3 in /home/hp/anaconda3/lib/python3.7/site-packages (from scikit-learn) (1.19.1)\n",
      "Requirement already satisfied: scipy>=0.19.1 in /home/hp/anaconda3/lib/python3.7/site-packages (from scikit-learn) (1.5.2)\n",
      "Requirement already satisfied: threadpoolctl>=2.0.0 in /home/hp/anaconda3/lib/python3.7/site-packages (from scikit-learn) (2.1.0)\n",
      "Requirement already satisfied: joblib>=0.11 in /home/hp/anaconda3/lib/python3.7/site-packages (from scikit-learn) (0.16.0)\n",
      "Requirement already satisfied: seaborn in /home/hp/anaconda3/lib/python3.7/site-packages (0.11.0)\n",
      "Requirement already satisfied: matplotlib>=2.2 in /home/hp/anaconda3/lib/python3.7/site-packages (from seaborn) (3.3.1)\n",
      "Requirement already satisfied: numpy>=1.15 in /home/hp/anaconda3/lib/python3.7/site-packages (from seaborn) (1.19.1)\n",
      "Requirement already satisfied: pandas>=0.23 in /home/hp/anaconda3/lib/python3.7/site-packages (from seaborn) (1.1.1)\n",
      "Requirement already satisfied: scipy>=1.0 in /home/hp/anaconda3/lib/python3.7/site-packages (from seaborn) (1.5.2)\n",
      "Requirement already satisfied: pillow>=6.2.0 in /home/hp/anaconda3/lib/python3.7/site-packages (from matplotlib>=2.2->seaborn) (7.2.0)\n",
      "Requirement already satisfied: certifi>=2020.06.20 in /home/hp/anaconda3/lib/python3.7/site-packages (from matplotlib>=2.2->seaborn) (2020.6.20)\n",
      "Requirement already satisfied: cycler>=0.10 in /home/hp/anaconda3/lib/python3.7/site-packages (from matplotlib>=2.2->seaborn) (0.10.0)\n",
      "Requirement already satisfied: pyparsing!=2.0.4,!=2.1.2,!=2.1.6,>=2.0.3 in /home/hp/anaconda3/lib/python3.7/site-packages (from matplotlib>=2.2->seaborn) (2.4.7)\n",
      "Requirement already satisfied: kiwisolver>=1.0.1 in /home/hp/anaconda3/lib/python3.7/site-packages (from matplotlib>=2.2->seaborn) (1.2.0)\n",
      "Requirement already satisfied: python-dateutil>=2.1 in /home/hp/anaconda3/lib/python3.7/site-packages (from matplotlib>=2.2->seaborn) (2.8.1)\n",
      "Requirement already satisfied: pytz>=2017.2 in /home/hp/anaconda3/lib/python3.7/site-packages (from pandas>=0.23->seaborn) (2020.1)\n",
      "Requirement already satisfied: six in /home/hp/anaconda3/lib/python3.7/site-packages (from cycler>=0.10->matplotlib>=2.2->seaborn) (1.15.0)\n"
     ]
    }
   ],
   "source": [
    "!pip install numpy\n",
    "!pip install scipy\n",
    "!pip install pandas\n",
    "!pip install scikit-learn\n",
    "!pip install seaborn"
   ]
  },
  {
   "cell_type": "markdown",
   "metadata": {},
   "source": [
    "### Importing data\n",
    "To begin, we need to understand the data.\n",
    "The ribosome genes are available in a .fasta file called 'ribosome_genes.fasta'. You can have a look if you like.\n",
    "These genes will be imported as classes (RibosomeGene). \n",
    "\n",
    "Each RibosomeGene object has a name, accession, sequence and length.\n",
    "You can access these properties using '.' syntax. (see below). \n",
    "\n",
    "Try to think of each gene as something physical, rather than code.\n",
    "In real life, each gene has a .length, its organism has a .name, and it has a .sequence. We can write code in this way too. \n",
    "\n",
    "we will import these into **ribosome_genes**, which is a list of our genes."
   ]
  },
  {
   "cell_type": "code",
   "execution_count": 5,
   "metadata": {},
   "outputs": [],
   "source": [
    "import warnings\n",
    "warnings.filterwarnings('ignore')\n",
    "\n",
    "from utilities import import_16s_sequences\n",
    "ribosome_genes = import_16s_sequences()"
   ]
  },
  {
   "cell_type": "code",
   "execution_count": 6,
   "metadata": {},
   "outputs": [
    {
     "name": "stdout",
     "output_type": "stream",
     "text": [
      "gene.accession      gene.name                     gene.length    gene.sequence\n",
      "EC_A                Escherichia coli DP101        100            CCUUCGGG...\n",
      "EC_B                Escherichia coli BEBOP        100            CCUUCGGG...\n",
      "EC_C                Escherichia coli SAMURAI_CH   100            CCUUCGGG...\n",
      "EC_D                Escherichia coli SAO          100            CCUUCGGG...\n",
      "EC_E                Escherichia coli code_GEASS   100            CCUUCGGG...\n",
      "EC_F                Escherichia coli DEATHNOTE    100            CCUUCGGG...\n",
      "EC_G                Escherichia coli STEINS_GAT   100            CCUUCGGG...\n",
      "EF_A                Enterococcus faecalis ATCC    100            CCUUUUUG...\n",
      "EF_B                Enterococcus faecalis EnGen   100            CCUUUUUG...\n",
      "EF_C                Enterococcus faecalis ATCC    100            CCUUUUUG...\n",
      "EF_D                Enterococcus faecalis GAH94   100            CCUUUUUG...\n",
      "HS_A                Homo sapiens (barack obamas   100            CCCGCCGG...\n",
      "MI_A                Musa itinerans                100            CCUUCGGG...\n",
      "SD_A                Shigella dysenteriae PEWPEW   100            CCUUCGGG...\n",
      "SF_A                Shigella flexneri Re-Zero     100            CCUUCGGG...\n",
      "SS_A                Shigella sp. CH-3             100            CCUUCGGG...\n",
      "SS_B                Shigella sp. JN-8             100            CUCUUCGC...\n"
     ]
    }
   ],
   "source": [
    "print('{:<20}{:<30}{:<15}{:<10}'.format('gene.accession', 'gene.name', 'gene.length', 'gene.sequence'))\n",
    "for gene in ribosome_genes:\n",
    "    print('{:<20}{:<30}{:<15}{:<10}'.format(gene.accession, gene.name[:27], gene.length, gene.sequence[:8] + '...'))"
   ]
  },
  {
   "cell_type": "markdown",
   "metadata": {},
   "source": [
    "### SECTION 1: PAIRWISE DISTANCES\n",
    "To be able to compare organisms via their sequences, we need a way to measure their difference as a distance. "
   ]
  },
  {
   "cell_type": "markdown",
   "metadata": {},
   "source": [
    "**K-mer distance**<br>\n",
    "The kmer distance between two sequences is defined here as the total number of k-mers that are unique to either sequence.<br>\n",
    "eg: If seq1 has 3 unique kmers not found in seq2 (copy number difference also matters), and seq2 has 2 unique kmers, the kmer distance is 5.  "
   ]
  },
  {
   "cell_type": "code",
   "execution_count": 7,
   "metadata": {},
   "outputs": [],
   "source": [
    "def create_kmer_dictionary(seq, k):\n",
    "    kmer_dict = {}\n",
    "    num = len(seq) - k + 1\n",
    "    for i in range(num):\n",
    "        kmer = seq[i:i+k]\n",
    "        if kmer not in kmer_dict:\n",
    "            kmer_dict[kmer] = 0\n",
    "        kmer_dict[kmer] += 1\n",
    "    return kmer_dict"
   ]
  },
  {
   "cell_type": "code",
   "execution_count": 8,
   "metadata": {},
   "outputs": [
    {
     "data": {
      "text/plain": [
       "{'CC': 1, 'CU': 1, 'UU': 1, 'UC': 1, 'CG': 1, 'GG': 2}"
      ]
     },
     "execution_count": 8,
     "metadata": {},
     "output_type": "execute_result"
    }
   ],
   "source": [
    "create_kmer_dictionary('CCUUCGGG', 2)"
   ]
  },
  {
   "cell_type": "code",
   "execution_count": 9,
   "metadata": {},
   "outputs": [],
   "source": [
    "def calculate_total_unique_kmers(kmers1, kmers2):\n",
    "    unique_kmers = 0\n",
    "    c1 = c2 = c3 = c4 = c5 = 0\n",
    "    for k in kmers1:\n",
    "        if k not in kmers2:\n",
    "            c1 += kmers1[k]\n",
    "        elif k in kmers1 and k in kmers2:\n",
    "            c2 = c2+ abs(kmers1[k] - kmers2[k])\n",
    "            \n",
    "    for k2 in kmers2:\n",
    "        if k2 not in kmers1:\n",
    "            c3 += kmers2[k2]\n",
    "    unique_kmers = c1+c2+c3\n",
    "            \n",
    "    return unique_kmers"
   ]
  },
  {
   "cell_type": "code",
   "execution_count": 10,
   "metadata": {},
   "outputs": [
    {
     "data": {
      "text/plain": [
       "3"
      ]
     },
     "execution_count": 10,
     "metadata": {},
     "output_type": "execute_result"
    }
   ],
   "source": [
    "kmers1 = {'CCUUCGGG':1}\n",
    "kmers2 = {'CCUUUUUG':2}\n",
    "calculate_total_unique_kmers(kmers1, kmers2)"
   ]
  },
  {
   "cell_type": "code",
   "execution_count": 11,
   "metadata": {},
   "outputs": [],
   "source": [
    "def kmer_distance(seq1, seq2, k): \n",
    "    kmers1 = create_kmer_dictionary(seq1,k)\n",
    "    kmers2 = create_kmer_dictionary(seq2,k)\n",
    "    distance = calculate_total_unique_kmers(kmers1, kmers2)\n",
    "    return distance"
   ]
  },
  {
   "cell_type": "markdown",
   "metadata": {},
   "source": [
    "Let's check our function. We can use the first two entries in the 'ribosome_genes' list.\n",
    "If implemented correctly, the following should return 24"
   ]
  },
  {
   "cell_type": "code",
   "execution_count": 12,
   "metadata": {},
   "outputs": [
    {
     "name": "stdout",
     "output_type": "stream",
     "text": [
      "24\n"
     ]
    }
   ],
   "source": [
    "distance = kmer_distance(ribosome_genes[1].sequence, ribosome_genes[3].sequence, 8)\n",
    "print(distance)"
   ]
  },
  {
   "cell_type": "markdown",
   "metadata": {},
   "source": [
    "**smith-waterman alignment**<br>\n",
    "Another way to compare the similarity of two sequences is through alignment.\n",
    "The alignment score of two sequences will be high when they are similar, and low when they are distinct. "
   ]
  },
  {
   "cell_type": "markdown",
   "metadata": {},
   "source": [
    "Keep in mind the matrix must be 1 element larger than the sequence lengths. Consider whether indel scores for the first row and column need to be filled in."
   ]
  },
  {
   "cell_type": "code",
   "execution_count": 15,
   "metadata": {},
   "outputs": [],
   "source": [
    "\n",
    "\n",
    "import numpy as np\n",
    "def init_scoregrid(seq1, seq2, indel_score=-4):\n",
    "    rs = len(seq1) +1\n",
    "    cs = len(seq2) +1\n",
    "    scoregrid = np.zeros((rs, cs), np.int)\n",
    "    return scoregrid"
   ]
  },
  {
   "cell_type": "markdown",
   "metadata": {},
   "source": [
    "Let's do a sanity check that the grid has been initialised properly. <br>\n",
    "The following should print the initialised scoregrid"
   ]
  },
  {
   "cell_type": "code",
   "execution_count": 16,
   "metadata": {},
   "outputs": [
    {
     "name": "stdout",
     "output_type": "stream",
     "text": [
      "[[0 0 0 0 0 0 0 0 0]\n",
      " [0 0 0 0 0 0 0 0 0]\n",
      " [0 0 0 0 0 0 0 0 0]\n",
      " [0 0 0 0 0 0 0 0 0]\n",
      " [0 0 0 0 0 0 0 0 0]\n",
      " [0 0 0 0 0 0 0 0 0]]\n"
     ]
    }
   ],
   "source": [
    "print(init_scoregrid('hello', 'kittycat'))"
   ]
  },
  {
   "cell_type": "markdown",
   "metadata": {},
   "source": [
    "Write a function that calculates the initialised scoregrid. It accepts two sequences, a scoregrid and match/mismatch and indel scores. "
   ]
  },
  {
   "cell_type": "code",
   "execution_count": 18,
   "metadata": {},
   "outputs": [],
   "source": [
    "\n",
    "import itertools\n",
    "def calculate_scoregrid(seq1, seq2, scoregrid, match_score=1, mismatch_score=-4, indel_score=-4):\n",
    "    for i, j in itertools.product(range(1, scoregrid.shape[0]), range(1, scoregrid.shape[1])):\n",
    "        match = scoregrid[i - 1, j - 1] + (match_score if seq1[i - 1] == seq2[j - 1] else + mismatch_score)\n",
    "        delete = scoregrid[i - 1, j] + indel_score\n",
    "        insert = scoregrid[i, j - 1] + indel_score\n",
    "        scoregrid[i, j] = max(match, delete, insert, 0)\n",
    "\n",
    "    return scoregrid"
   ]
  },
  {
   "cell_type": "markdown",
   "metadata": {},
   "source": [
    "Let's do another sanity check. <br>\n",
    "The following should print a calculated scoregrid, with the these numbers in the bottom right corner: <br>\n",
    "2  0 <br>\n",
    "0  3"
   ]
  },
  {
   "cell_type": "code",
   "execution_count": 19,
   "metadata": {},
   "outputs": [
    {
     "name": "stdout",
     "output_type": "stream",
     "text": [
      "[[0 0 0 0 0 0 0]\n",
      " [0 1 0 0 0 0 0]\n",
      " [0 0 2 0 0 0 0]\n",
      " [0 0 0 3 1 1 0]\n",
      " [0 0 0 1 4 2 0]\n",
      " [0 0 0 0 0 0 3]]\n"
     ]
    }
   ],
   "source": [
    "scoregrid = init_scoregrid('hello', 'helllo')\n",
    "print(calculate_scoregrid('hello', 'helllo', scoregrid))"
   ]
  },
  {
   "cell_type": "code",
   "execution_count": 21,
   "metadata": {},
   "outputs": [],
   "source": [
    "def report_alignment_score(scoregrid):\n",
    "    # given a completed scoregrid, return the smith-waterman alignment score.\n",
    "    sw_alignment_score = scoregrid.max()\n",
    "    return sw_alignment_score"
   ]
  },
  {
   "cell_type": "markdown",
   "metadata": {},
   "source": [
    "Final sanity check. Should return 4."
   ]
  },
  {
   "cell_type": "code",
   "execution_count": 22,
   "metadata": {},
   "outputs": [
    {
     "name": "stdout",
     "output_type": "stream",
     "text": [
      "4\n"
     ]
    }
   ],
   "source": [
    "scoregrid = init_scoregrid('hello', 'helllo')\n",
    "calculated_scoregrid = calculate_scoregrid('hello', 'helllo', scoregrid)\n",
    "print(report_alignment_score(calculated_scoregrid))"
   ]
  },
  {
   "cell_type": "markdown",
   "metadata": {},
   "source": [
    "Ok! now we're ready to put it all together. <br>\n",
    "Fill in the function below with the three functions you wrote to calculate the alignment score of two sequences"
   ]
  },
  {
   "cell_type": "code",
   "execution_count": 24,
   "metadata": {},
   "outputs": [],
   "source": [
    "def smith_waterman(seq1, seq2):\n",
    "    matrix = init_scoregrid(seq1, seq2, indel_score=-4)\n",
    "    element_scores = calculate_scoregrid(seq1, seq2, scoregrid, match_score=1, mismatch_score=-4, indel_score=-4)\n",
    "    alignment_score = report_alignment_score(scoregrid)\n",
    "    return alignment_score"
   ]
  },
  {
   "cell_type": "markdown",
   "metadata": {},
   "source": [
    "The following should print 4"
   ]
  },
  {
   "cell_type": "code",
   "execution_count": 25,
   "metadata": {},
   "outputs": [
    {
     "name": "stdout",
     "output_type": "stream",
     "text": [
      "4\n"
     ]
    }
   ],
   "source": [
    "print(smith_waterman('hello', 'helllo'))"
   ]
  },
  {
   "cell_type": "markdown",
   "metadata": {},
   "source": [
    "**pairwise distances**"
   ]
  },
  {
   "cell_type": "markdown",
   "metadata": {},
   "source": [
    "We have now written two functions which can calculate the distance of two sequences. \n",
    "We can calculate the k-mer distance, and the smith-waterman alignment score. \n",
    "lets use these two methods to calculate the pairwise distance of our genes. "
   ]
  },
  {
   "cell_type": "code",
   "execution_count": 30,
   "metadata": {},
   "outputs": [],
   "source": [
    "import numpy as np\n",
    "def init_distance_matrix(genes):\n",
    "    values=[]\n",
    "    for gene in genes:\n",
    "        s=gene.accession\n",
    "        values.append(s)\n",
    "        values.append(0)\n",
    "    \n",
    "    distance_matrix = {}\n",
    "    for gene in ribosome_genes:\n",
    "        key = gene.accession        \n",
    "        distance_matrix[key]={values[i]: values[i + 1] for i in range(0, len(values), 2)} \n",
    "    return distance_matrix"
   ]
  },
  {
   "cell_type": "markdown",
   "metadata": {},
   "source": [
    "Let's print the distance matrix to make sure it worked. "
   ]
  },
  {
   "cell_type": "code",
   "execution_count": 31,
   "metadata": {},
   "outputs": [
    {
     "name": "stdout",
     "output_type": "stream",
     "text": [
      "        EC_A  EC_B  EC_C  EC_D  EC_E  EC_F  EC_G  EF_A  EF_B  EF_C  EF_D  HS_A  MI_A  SD_A  SF_A  SS_A  SS_B\n",
      "EC_A     0.0   0.0   0.0   0.0   0.0   0.0   0.0   0.0   0.0   0.0   0.0   0.0   0.0   0.0   0.0   0.0   0.0\n",
      "EC_B     0.0   0.0   0.0   0.0   0.0   0.0   0.0   0.0   0.0   0.0   0.0   0.0   0.0   0.0   0.0   0.0   0.0\n",
      "EC_C     0.0   0.0   0.0   0.0   0.0   0.0   0.0   0.0   0.0   0.0   0.0   0.0   0.0   0.0   0.0   0.0   0.0\n",
      "EC_D     0.0   0.0   0.0   0.0   0.0   0.0   0.0   0.0   0.0   0.0   0.0   0.0   0.0   0.0   0.0   0.0   0.0\n",
      "EC_E     0.0   0.0   0.0   0.0   0.0   0.0   0.0   0.0   0.0   0.0   0.0   0.0   0.0   0.0   0.0   0.0   0.0\n",
      "EC_F     0.0   0.0   0.0   0.0   0.0   0.0   0.0   0.0   0.0   0.0   0.0   0.0   0.0   0.0   0.0   0.0   0.0\n",
      "EC_G     0.0   0.0   0.0   0.0   0.0   0.0   0.0   0.0   0.0   0.0   0.0   0.0   0.0   0.0   0.0   0.0   0.0\n",
      "EF_A     0.0   0.0   0.0   0.0   0.0   0.0   0.0   0.0   0.0   0.0   0.0   0.0   0.0   0.0   0.0   0.0   0.0\n",
      "EF_B     0.0   0.0   0.0   0.0   0.0   0.0   0.0   0.0   0.0   0.0   0.0   0.0   0.0   0.0   0.0   0.0   0.0\n",
      "EF_C     0.0   0.0   0.0   0.0   0.0   0.0   0.0   0.0   0.0   0.0   0.0   0.0   0.0   0.0   0.0   0.0   0.0\n",
      "EF_D     0.0   0.0   0.0   0.0   0.0   0.0   0.0   0.0   0.0   0.0   0.0   0.0   0.0   0.0   0.0   0.0   0.0\n",
      "HS_A     0.0   0.0   0.0   0.0   0.0   0.0   0.0   0.0   0.0   0.0   0.0   0.0   0.0   0.0   0.0   0.0   0.0\n",
      "MI_A     0.0   0.0   0.0   0.0   0.0   0.0   0.0   0.0   0.0   0.0   0.0   0.0   0.0   0.0   0.0   0.0   0.0\n",
      "SD_A     0.0   0.0   0.0   0.0   0.0   0.0   0.0   0.0   0.0   0.0   0.0   0.0   0.0   0.0   0.0   0.0   0.0\n",
      "SF_A     0.0   0.0   0.0   0.0   0.0   0.0   0.0   0.0   0.0   0.0   0.0   0.0   0.0   0.0   0.0   0.0   0.0\n",
      "SS_A     0.0   0.0   0.0   0.0   0.0   0.0   0.0   0.0   0.0   0.0   0.0   0.0   0.0   0.0   0.0   0.0   0.0\n",
      "SS_B     0.0   0.0   0.0   0.0   0.0   0.0   0.0   0.0   0.0   0.0   0.0   0.0   0.0   0.0   0.0   0.0   0.0\n"
     ]
    }
   ],
   "source": [
    "from utilities import print_distance_matrix\n",
    "distance_matrix = init_distance_matrix(ribosome_genes)\n",
    "print_distance_matrix(distance_matrix)"
   ]
  },
  {
   "cell_type": "markdown",
   "metadata": {},
   "source": [
    "Time to fill in the matrix with distances. <br>\n",
    "Write a function which calculates the pairwise distance of genes using kmer distance.\n",
    "you will need to call the 'kmer_distance' function you have written above. "
   ]
  },
  {
   "cell_type": "code",
   "execution_count": 32,
   "metadata": {},
   "outputs": [],
   "source": [
    "def calculate_kmer_distance_matrix(genes, matrix, k):\n",
    "    for gene1 in genes:\n",
    "        key1=gene1.accession\n",
    "        for gene2 in genes:\n",
    "            key2=gene2.accession\n",
    "            matrix[key1][key2]=kmer_distance(gene1.sequence,gene2.sequence,k)\n",
    "\n",
    "    return matrix"
   ]
  },
  {
   "cell_type": "markdown",
   "metadata": {},
   "source": [
    "Let's do the same as above, but this time use the 'smith_waterman' alignment distance function you wrote. "
   ]
  },
  {
   "cell_type": "code",
   "execution_count": 34,
   "metadata": {},
   "outputs": [],
   "source": [
    "def calculate_sw_alignment_distance_matrix(genes, matrix): \n",
    "    for gene1 in genes:\n",
    "        key1=gene1.accession\n",
    "        for gene2 in genes:\n",
    "            key2=gene2.accession\n",
    "            matrix[key1][key2]=smith_waterman(gene1.sequence,gene2.sequence)\n",
    "    return matrix\n",
    "    "
   ]
  },
  {
   "cell_type": "markdown",
   "metadata": {},
   "source": [
    "Let's test them out. The two cells below will use your calculate_kmer_distance_matrix, and calculate_sw_alignment_distance_matrix functions to add distances to the matrix. <br>\n",
    "**NOTE:** the smith-waterman distance calculations can take time. Give it a minute."
   ]
  },
  {
   "cell_type": "code",
   "execution_count": 35,
   "metadata": {},
   "outputs": [
    {
     "name": "stdout",
     "output_type": "stream",
     "text": [
      "\n",
      "kmer distance matrix\n",
      "        EC_A  EC_B  EC_C  EC_D  EC_E  EC_F  EC_G  EF_A  EF_B  EF_C  EF_D  HS_A  MI_A  SD_A  SF_A  SS_A  SS_B\n",
      "EC_A     0.0  86.0  98.0  94.0  96.0  90.0  96.0 186.0 186.0 186.0 186.0 186.0  96.0  98.0 160.0 106.0 110.0\n",
      "EC_B    86.0   0.0  32.0  24.0  26.0  24.0  24.0 176.0 182.0 176.0 176.0 186.0  24.0  32.0  92.0  74.0 102.0\n",
      "EC_C    98.0  32.0   0.0  52.0  40.0  36.0  40.0 186.0 186.0 186.0 186.0 186.0  40.0  32.0  98.0  72.0  96.0\n",
      "EC_D    94.0  24.0  52.0   0.0  32.0  36.0  32.0 176.0 182.0 176.0 176.0 186.0  36.0  50.0 116.0  82.0 100.0\n",
      "EC_E    96.0  26.0  40.0  32.0   0.0  26.0  22.0 182.0 186.0 182.0 182.0 186.0  26.0  38.0 116.0  82.0 100.0\n",
      "EC_F    90.0  24.0  36.0  36.0  26.0   0.0  24.0 186.0 186.0 186.0 186.0 186.0  30.0  28.0 110.0  82.0 100.0\n",
      "EC_G    96.0  24.0  40.0  32.0  22.0  24.0   0.0 180.0 186.0 180.0 180.0 186.0   8.0  38.0 116.0  82.0 100.0\n",
      "EF_A   186.0 176.0 186.0 176.0 182.0 186.0 180.0   0.0  44.0  28.0  28.0 186.0 180.0 186.0 182.0 186.0 186.0\n",
      "EF_B   186.0 182.0 186.0 182.0 186.0 186.0 186.0  44.0   0.0  44.0  26.0 186.0 186.0 186.0 176.0 186.0 186.0\n",
      "EF_C   186.0 176.0 186.0 176.0 182.0 186.0 180.0  28.0  44.0   0.0  28.0 186.0 180.0 186.0 182.0 186.0 186.0\n",
      "EF_D   186.0 176.0 186.0 176.0 182.0 186.0 180.0  28.0  26.0  28.0   0.0 186.0 180.0 186.0 182.0 186.0 186.0\n",
      "HS_A   186.0 186.0 186.0 186.0 186.0 186.0 186.0 186.0 186.0 186.0 186.0   0.0 186.0 186.0 186.0 186.0 186.0\n",
      "MI_A    96.0  24.0  40.0  36.0  26.0  30.0   8.0 180.0 186.0 180.0 180.0 186.0   0.0  38.0 116.0  82.0 102.0\n",
      "SD_A    98.0  32.0  32.0  50.0  38.0  28.0  38.0 186.0 186.0 186.0 186.0 186.0  38.0   0.0 108.0  78.0 100.0\n",
      "SF_A   160.0  92.0  98.0 116.0 116.0 110.0 116.0 182.0 176.0 182.0 182.0 186.0 116.0 108.0   0.0 144.0 172.0\n",
      "SS_A   106.0  74.0  72.0  82.0  82.0  82.0  82.0 186.0 186.0 186.0 186.0 186.0  82.0  78.0 144.0   0.0  92.0\n",
      "SS_B   110.0 102.0  96.0 100.0 100.0 100.0 100.0 186.0 186.0 186.0 186.0 186.0 102.0 100.0 172.0  92.0   0.0\n"
     ]
    }
   ],
   "source": [
    "distance_matrix = init_distance_matrix(ribosome_genes)\n",
    "kmer_distance_matrix = calculate_kmer_distance_matrix(ribosome_genes, distance_matrix, 8)\n",
    "print('\\nkmer distance matrix')\n",
    "print_distance_matrix(kmer_distance_matrix)"
   ]
  },
  {
   "cell_type": "code",
   "execution_count": 36,
   "metadata": {},
   "outputs": [
    {
     "name": "stdout",
     "output_type": "stream",
     "text": [
      "\n",
      "smith waterman alignment score distance matrix\n",
      "        EC_A  EC_B  EC_C  EC_D  EC_E  EC_F  EC_G  EF_A  EF_B  EF_C  EF_D  HS_A  MI_A  SD_A  SF_A  SS_A  SS_B\n",
      "EC_A     5.0   5.0   5.0   5.0   5.0   5.0   5.0   4.0   4.0   4.0   4.0   2.0   5.0   5.0   5.0   5.0   4.0\n",
      "EC_B     5.0   5.0   5.0   5.0   5.0   5.0   5.0   4.0   4.0   4.0   4.0   2.0   5.0   5.0   5.0   5.0   4.0\n",
      "EC_C     5.0   5.0   5.0   5.0   5.0   5.0   5.0   4.0   4.0   4.0   4.0   2.0   5.0   5.0   5.0   5.0   4.0\n",
      "EC_D     5.0   5.0   5.0   5.0   5.0   5.0   5.0   4.0   4.0   4.0   4.0   2.0   5.0   5.0   5.0   5.0   4.0\n",
      "EC_E     5.0   5.0   5.0   5.0   5.0   5.0   5.0   4.0   4.0   4.0   4.0   2.0   5.0   5.0   5.0   5.0   4.0\n",
      "EC_F     5.0   5.0   5.0   5.0   5.0   5.0   5.0   4.0   4.0   4.0   4.0   2.0   5.0   5.0   5.0   5.0   4.0\n",
      "EC_G     5.0   5.0   5.0   5.0   5.0   5.0   5.0   4.0   4.0   4.0   4.0   2.0   5.0   5.0   5.0   5.0   4.0\n",
      "EF_A     4.0   4.0   4.0   4.0   4.0   4.0   4.0   5.0   5.0   5.0   5.0   2.0   4.0   4.0   4.0   4.0   3.0\n",
      "EF_B     4.0   4.0   4.0   4.0   4.0   4.0   4.0   5.0   5.0   5.0   5.0   2.0   4.0   4.0   4.0   4.0   3.0\n",
      "EF_C     4.0   4.0   4.0   4.0   4.0   4.0   4.0   5.0   5.0   5.0   5.0   2.0   4.0   4.0   4.0   4.0   3.0\n",
      "EF_D     4.0   4.0   4.0   4.0   4.0   4.0   4.0   5.0   5.0   5.0   5.0   2.0   4.0   4.0   4.0   4.0   3.0\n",
      "HS_A     2.0   2.0   2.0   2.0   2.0   2.0   2.0   2.0   2.0   2.0   2.0   5.0   2.0   2.0   2.0   2.0   1.0\n",
      "MI_A     5.0   5.0   5.0   5.0   5.0   5.0   5.0   4.0   4.0   4.0   4.0   2.0   5.0   5.0   5.0   5.0   4.0\n",
      "SD_A     5.0   5.0   5.0   5.0   5.0   5.0   5.0   4.0   4.0   4.0   4.0   2.0   5.0   5.0   5.0   5.0   4.0\n",
      "SF_A     5.0   5.0   5.0   5.0   5.0   5.0   5.0   4.0   4.0   4.0   4.0   2.0   5.0   5.0   5.0   5.0   4.0\n",
      "SS_A     5.0   5.0   5.0   5.0   5.0   5.0   5.0   4.0   4.0   4.0   4.0   2.0   5.0   5.0   5.0   5.0   4.0\n",
      "SS_B     3.0   3.0   3.0   3.0   3.0   3.0   3.0   3.0   3.0   3.0   3.0   1.0   3.0   3.0   3.0   3.0   5.0\n"
     ]
    }
   ],
   "source": [
    "distance_matrix = init_distance_matrix(ribosome_genes)\n",
    "sw_alignment_distance_matrix = calculate_sw_alignment_distance_matrix(ribosome_genes, distance_matrix)\n",
    "print('\\nsmith waterman alignment score distance matrix')\n",
    "print_distance_matrix(sw_alignment_distance_matrix)"
   ]
  },
  {
   "cell_type": "markdown",
   "metadata": {},
   "source": [
    "Let's visualise those in a better manner for human eyes. The cell below will plot heatmaps instead of raw numbers."
   ]
  },
  {
   "cell_type": "code",
   "execution_count": 37,
   "metadata": {},
   "outputs": [
    {
     "data": {
      "image/png": "[encoded data removed]",
      "text/plain": [
       "<Figure size 960x480 with 2 Axes>"
      ]
     },
     "metadata": {
      "needs_background": "light"
     },
     "output_type": "display_data"
    }
   ],
   "source": [
    "from utilities import heatmap\n",
    "heatmap(kmer_distance_matrix, sw_alignment_distance_matrix)"
   ]
  },
  {
   "cell_type": "markdown",
   "metadata": {},
   "source": [
    "### SECTION 2: CLUSTERING"
   ]
  },
  {
   "cell_type": "markdown",
   "metadata": {},
   "source": [
    "From the heatmaps, it seems like there are a few clusters in the data. <br>\n",
    "First, lets convert the pairwise distances to 2D coordinates. \n",
    "This is possible using Multidimensional scaling (MDS).\n",
    "After we have transformed the distance matrix to 2D coordinates, we can plot it to see if any clusters are evident."
   ]
  },
  {
   "cell_type": "code",
   "execution_count": 38,
   "metadata": {},
   "outputs": [
    {
     "data": {
      "image/png": "[encoded data removed]",
      "text/plain": [
       "<Figure size 864x864 with 1 Axes>"
      ]
     },
     "metadata": {
      "needs_background": "light"
     },
     "output_type": "display_data"
    },
    {
     "data": {
      "image/png": "[encoded data removed]",
      "text/plain": [
       "<Figure size 864x864 with 1 Axes>"
      ]
     },
     "metadata": {
      "needs_background": "light"
     },
     "output_type": "display_data"
    }
   ],
   "source": [
    "from utilities import mds_scatterplot, distance_matrix_to_coordinates_MDS\n",
    "kmer_distances_xy = distance_matrix_to_coordinates_MDS(kmer_distance_matrix)\n",
    "sw_distances_xy = distance_matrix_to_coordinates_MDS(sw_alignment_distance_matrix)\n",
    "mds_scatterplot(kmer_distances_xy)\n",
    "mds_scatterplot(sw_distances_xy)"
   ]
  },
  {
   "cell_type": "markdown",
   "metadata": {},
   "source": [
    "Seems like there is some clustering happening. <br>\n",
    "Let's use some clustering algorithms to define the clusters. \n",
    "in this manner, we can have an objective way to talk about the patterns in the data."
   ]
  },
  {
   "cell_type": "markdown",
   "metadata": {},
   "source": [
    "Let's implement the k-means algorithm."
   ]
  },
  {
   "cell_type": "code",
   "execution_count": 39,
   "metadata": {},
   "outputs": [],
   "source": [
    "from utilities import initialise_centroids, average_point, assign_points, plot_kmeans, points_equal, euclidean_distance"
   ]
  },
  {
   "cell_type": "code",
   "execution_count": 40,
   "metadata": {},
   "outputs": [],
   "source": [
    "def calculate_mean_centroids(data, assignments, k):\n",
    "    centroids = []\n",
    "    for cluster in range(k):\n",
    "        points = [point for point, assignment in zip(data, assignments) if assignment == cluster]\n",
    "        centroids.append(average_point(points))\n",
    "    return centroids"
   ]
  },
  {
   "cell_type": "markdown",
   "metadata": {},
   "source": [
    "Place calculate_mean_centroids() in the kmeans function below to complete kmeans"
   ]
  },
  {
   "cell_type": "code",
   "execution_count": 41,
   "metadata": {},
   "outputs": [],
   "source": [
    "def kmeans(data, k):\n",
    "    centroids=initialise_centroids(data,k)    \n",
    "    cluster_assignments=assign_points(centroids,data)\n",
    "    centroids=calculate_mean_centroids(data,cluster_assignments,k)\n",
    "    return centroids, cluster_assignments"
   ]
  },
  {
   "cell_type": "markdown",
   "metadata": {},
   "source": [
    "You can check your implementation using the cell below:"
   ]
  },
  {
   "cell_type": "code",
   "execution_count": 42,
   "metadata": {},
   "outputs": [
    {
     "data": {
      "image/png": "[encoded data removed]",
      "text/plain": [
       "<Figure size 432x288 with 1 Axes>"
      ]
     },
     "metadata": {
      "needs_background": "light"
     },
     "output_type": "display_data"
    }
   ],
   "source": [
    "centroids, cluster_assignments = kmeans(kmer_distances_xy, 3)\n",
    "plot_kmeans(kmer_distances_xy, centroids, cluster_assignments, 3)"
   ]
  },
  {
   "cell_type": "markdown",
   "metadata": {},
   "source": [
    "Let's also implement k-medoids while we're at it. <br>\n",
    "The only difference between k-means and k-medoids is the calculate_mean_centroids() step, which will instead be calculate_median_centroids()\n",
    "the median can be taken here as the point in the cluster which has smallest cumulative distance to the other points in the cluster\n",
    "You can use the provided euclidean_distance() function to calculate distances between points\n",
    "write a function which calculates new centroid locations (using the median)"
   ]
  },
  {
   "cell_type": "code",
   "execution_count": 46,
   "metadata": {},
   "outputs": [],
   "source": [
    "def calculate_median_centroids(data, assignments, k):\n",
    "    centroids = []\n",
    "    for cluster in range(k):\n",
    "        points = [point for point, assignment in zip(data, assignments) if assignment == cluster]\n",
    "        centroids.append(tuple(np.median(np.array(points), axis=0)))\n",
    "    return centroids"
   ]
  },
  {
   "cell_type": "markdown",
   "metadata": {},
   "source": [
    "Place calculate_median_centroids() in the kmedoids function below to complete kmedoids"
   ]
  },
  {
   "cell_type": "code",
   "execution_count": 47,
   "metadata": {},
   "outputs": [],
   "source": [
    "def kmedoids(data, k):\n",
    "    centroids=initialise_centroids(data,k)    \n",
    "    cluster_assignments=assign_points(centroids,data)\n",
    "    centroids=calculate_median_centroids(data,cluster_assignments,k)\n",
    "    return centroids, cluster_assignments"
   ]
  },
  {
   "cell_type": "markdown",
   "metadata": {},
   "source": [
    "Here is another check cell, for kmedoids this time:"
   ]
  },
  {
   "cell_type": "code",
   "execution_count": 48,
   "metadata": {},
   "outputs": [
    {
     "data": {
      "image/png": "[encoded data removed]",
      "text/plain": [
       "<Figure size 432x288 with 1 Axes>"
      ]
     },
     "metadata": {
      "needs_background": "light"
     },
     "output_type": "display_data"
    }
   ],
   "source": [
    "centroids,cluster_assignments = kmedoids(kmer_distances_xy, 3)\n",
    "plot_kmeans(kmer_distances_xy, centroids, cluster_assignments, 3)"
   ]
  }
 ],
 "metadata": {
  "kernelspec": {
   "display_name": "Python 3",
   "language": "python",
   "name": "python3"
  },
  "language_info": {
   "codemirror_mode": {
    "name": "ipython",
    "version": 3
   },
   "file_extension": ".py",
   "mimetype": "text/x-python",
   "name": "python",
   "nbconvert_exporter": "python",
   "pygments_lexer": "ipython3",
   "version": "3.7.9"
  }
 },
 "nbformat": 4,
 "nbformat_minor": 4
}
